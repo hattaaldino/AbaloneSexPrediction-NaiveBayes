{
 "cells": [
  {
   "cell_type": "markdown",
   "metadata": {},
   "source": [
    "First load the dataset into program"
   ]
  },
  {
   "cell_type": "code",
   "execution_count": 16,
   "metadata": {},
   "outputs": [
    {
     "name": "stdout",
     "output_type": "stream",
     "text": [
      "Total Data :  4177\n",
      "\n",
      "Attribute :\n",
      "sex\n",
      "length\n",
      "diameter\n",
      "height\n",
      "whole-weight\n",
      "shucked-weight\n",
      "viscera-weight\n",
      "shell-weight\n",
      "rings\n",
      "\n",
      "Data :\n",
      "['M', '91', '73', '19', '102.8', '44.9', '20.2', '30', '15']\n",
      "['M', '70', '53', '18', '45.1', '19.9', '9.7', '14', '7']\n",
      "['F', '106', '84', '27', '135.4', '51.3', '28.3', '42', '9']\n",
      "['M', '88', '73', '25', '103.2', '43.1', '22.8', '31', '10']\n",
      "['I', '66', '51', '16', '41', '17.9', '7.9', '11', '7']\n",
      "...\n"
     ]
    }
   ],
   "source": [
    "from csv import reader\n",
    "\n",
    "file = \"abalone_original.csv\"\n",
    "attribute = list()\n",
    "dataset = list()\n",
    "data_count = 0\n",
    "with open(file,'r') as abalone_data:\n",
    "    data_reader = reader(abalone_data)\n",
    "    for row in data_reader:\n",
    "        if not row:\n",
    "            continue\n",
    "        if data_count == 0:\n",
    "            attribute = row\n",
    "            data_count += 1\n",
    "        else:\n",
    "            dataset.append(row)\n",
    "            data_count += 1\n",
    "data_count -= 1\n",
    "\n",
    "print(\"Total Data : \", data_count)\n",
    "\n",
    "print(\"\\nAttribute :\")\n",
    "for i in attribute:\n",
    "    print(i)\n",
    "\n",
    "print(\"\\nData :\")\n",
    "for i in range(5):\n",
    "    print(dataset[i])\n",
    "print(\"...\")"
   ]
  },
  {
   "cell_type": "markdown",
   "metadata": {},
   "source": [
    "As the previous results, it's clear that all features have Gaussian Distribution. Next clean the data so that all data become float type."
   ]
  },
  {
   "cell_type": "code",
   "execution_count": 17,
   "metadata": {},
   "outputs": [
    {
     "name": "stdout",
     "output_type": "stream",
     "text": [
      "Converted Data :\n",
      "['M', 91.0, 73.0, 19.0, 102.8, 44.9, 20.2, 30.0, 15.0]\n",
      "['M', 70.0, 53.0, 18.0, 45.1, 19.9, 9.7, 14.0, 7.0]\n",
      "['F', 106.0, 84.0, 27.0, 135.4, 51.3, 28.3, 42.0, 9.0]\n",
      "['M', 88.0, 73.0, 25.0, 103.2, 43.1, 22.8, 31.0, 10.0]\n",
      "['I', 66.0, 51.0, 16.0, 41.0, 17.9, 7.9, 11.0, 7.0]\n",
      "...\n"
     ]
    }
   ],
   "source": [
    "for row in range(len(dataset)):\n",
    "    for feature in range(1, len(dataset[row])):\n",
    "        dataset[row][feature] = float(dataset[row][feature].strip())\n",
    "        \n",
    "print(\"Converted Data :\")\n",
    "for i in range(5):\n",
    "    print(dataset[i])\n",
    "print(\"...\")"
   ]
  },
  {
   "cell_type": "markdown",
   "metadata": {},
   "source": [
    "We will use 5-fold cross validation to evaluate this model."
   ]
  },
  {
   "cell_type": "code",
   "execution_count": 24,
   "metadata": {},
   "outputs": [
    {
     "name": "stdout",
     "output_type": "stream",
     "text": [
      "835\n",
      "835\n"
     ]
    }
   ],
   "source": [
    "from random import randrange\n",
    "\n",
    "n_fold = 5\n",
    "fold_size = int(len(dataset) / 5)\n",
    "data_split = list()\n",
    "dataset_copy = list(dataset)\n",
    "\n",
    "for _ in range(n_fold):\n",
    "    fold = list()\n",
    "    while len(fold) < fold_size:\n",
    "        index = randrange(len(dataset_copy))\n",
    "        fold.append(dataset_copy.pop(index))\n",
    "    data_split.append(fold)\n",
    "\n",
    "train_set = list()\n",
    "for fold in data_split:\n",
    "    set = list()\n",
    "    train = list()\n",
    "    val = list()\n",
    "    "
   ]
  },
  {
   "cell_type": "code",
   "execution_count": null,
   "metadata": {},
   "outputs": [],
   "source": []
  }
 ],
 "metadata": {
  "kernelspec": {
   "display_name": "Python 3 (Spyder)",
   "language": "python3",
   "name": "python3"
  },
  "language_info": {
   "codemirror_mode": {
    "name": "ipython",
    "version": 3
   },
   "file_extension": ".py",
   "mimetype": "text/x-python",
   "name": "python",
   "nbconvert_exporter": "python",
   "pygments_lexer": "ipython3",
   "version": "3.7.4"
  }
 },
 "nbformat": 4,
 "nbformat_minor": 2
}
